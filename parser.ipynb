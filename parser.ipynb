{
 "cells": [
  {
   "cell_type": "code",
   "execution_count": 7,
   "metadata": {},
   "outputs": [],
   "source": [
    "import os\n",
    "from enum import Enum\n",
    "import re"
   ]
  },
  {
   "cell_type": "code",
   "execution_count": 8,
   "metadata": {},
   "outputs": [],
   "source": [
    "# User Input\n",
    "\n",
    "addons_paths = ['../odoo/addons', '../enterprise']"
   ]
  },
  {
   "cell_type": "code",
   "execution_count": 9,
   "metadata": {},
   "outputs": [],
   "source": [
    "# Constants\n",
    "\n",
    "FOLDERS = ['models', 'report', 'wizard', 'wizards']\n",
    "# FIELD_TYPES = ['Char', 'Text', 'integer', 'float', 'boolean', 'date', 'datetime', 'binary', 'selection', 'many2one', 'one2many', 'many2many']\n",
    "FIELD_TYPES = ['One2many', 'Many2one', 'Many2many']"
   ]
  },
  {
   "cell_type": "code",
   "execution_count": 10,
   "metadata": {},
   "outputs": [],
   "source": [
    "# Field Types Enum Data Structure\n",
    "\n",
    "class FieldTypes(Enum):\n",
    "    One2many = 'One2many'\n",
    "    Many2one = 'Many2one'\n",
    "    Many2many = 'Many2many'\n",
    "\n",
    "    def __str__(self):\n",
    "        return self.value\n",
    "\n",
    "    @staticmethod\n",
    "    def get_field_type(field_type: str):\n",
    "        for ft in FieldTypes:\n",
    "            if ft.value == field_type:\n",
    "                return ft\n",
    "        return None"
   ]
  },
  {
   "cell_type": "code",
   "execution_count": 30,
   "metadata": {},
   "outputs": [],
   "source": [
    "# Graph Structure\n",
    "\n",
    "class ModelNode:\n",
    "    def __init__(self, name: str):\n",
    "        self.name = name\n",
    "        self.edges = []\n",
    "        self.params = {'modules': set()} # This can be used to store any extra information about the model\n",
    "\n",
    "    def add_edge(self, edge):\n",
    "        # check if edge already exists\n",
    "        for e in self.edges:\n",
    "            if e.node1 == edge.node1 and e.node2 == edge.node2 and e.field == edge.field and e.field_type == edge.field_type:\n",
    "                return\n",
    "        self.edges.append(edge)\n",
    "\n",
    "    def __str__(self):\n",
    "        return self.name\n",
    "\n",
    "ModelNode.all_nodes = {}\n",
    "\n",
    "class RelationEdge:\n",
    "    def __init__(self, node1: ModelNode, node2: ModelNode, field: str, field_type: str):\n",
    "        self.node1 = node1\n",
    "        self.node2 = node2\n",
    "        self.field = field\n",
    "        self.field_type = FieldTypes.get_field_type(field_type)\n",
    "\n",
    "    def __str__(self):\n",
    "        return self.node1.name + ' -> ' + self.node2.name + ' (' + self.field + ')'"
   ]
  },
  {
   "cell_type": "code",
   "execution_count": 38,
   "metadata": {},
   "outputs": [],
   "source": [
    "def parse_line(lines: [str], idx, model_name, model_technical_name, module, is_model):\n",
    "\n",
    "    line = lines[idx]\n",
    "\n",
    "    # new python model class declaration\n",
    "    if match := re.search(r'class\\s+(\\w+)\\(models.((Model)|(TransientModel)|(AbstractModel))\\):', line):\n",
    "        model_name = match.group(1)\n",
    "        is_model = True\n",
    "        model_technical_name = ''\n",
    "\n",
    "    # model technical name\n",
    "    # https://regex101.com/r/DSHiTN/1\n",
    "    elif match := re.search(r\"\"\"_name\\s*=\\s*('|\\\")([\\w\\.]*)('|\\\")\"\"\", line):\n",
    "        model_technical_name = match.group(2)\n",
    "        if ModelNode.all_nodes.get(model_technical_name) is None:\n",
    "            ModelNode.all_nodes[model_technical_name] = ModelNode(model_technical_name)\n",
    "        ModelNode.all_nodes[model_technical_name].params['modules'].add(module)\n",
    "\n",
    "\n",
    "    elif match := re.search(r\"\"\"_inherit\\s*=\\s*('|\\\")([\\w\\.]*)('|\\\")\"\"\", line):\n",
    "        if model_technical_name == '':\n",
    "            model_technical_name = match.group(2)\n",
    "        if ModelNode.all_nodes.get(model_technical_name) is None:\n",
    "            ModelNode.all_nodes[model_technical_name] = ModelNode(model_technical_name)\n",
    "        ModelNode.all_nodes[model_technical_name].params['modules'].add(module)\n",
    "\n",
    "\n",
    "    # todo: Failing case: when inheriting a model, the inherited fields are not being detected\n",
    "\n",
    "    # https://regex101.com/r/DSHiTN/1\n",
    "    elif match := re.search(r\"\"\"_inherit\\s*=\\s*('|\\\")([\\w\\.]*)('|\\\")\"\"\", line):\n",
    "        model_technical_name = match.group(2)\n",
    "\n",
    "    # match field type\n",
    "    for field_type in FIELD_TYPES:\n",
    "        # regexr.com/86goi\n",
    "        if match := re.search(r'([\\w])+\\s*=\\s*fields\\.((One2many\\()|(Many2one\\()|(Many2many\\())', line):\n",
    "            field_name = match.group(0).split('=')[0].strip()\n",
    "            comodel_name = ''\n",
    "\n",
    "            while ')' not in lines[idx] and idx < len(lines):\n",
    "                idx += 1\n",
    "                line += lines[idx]\n",
    "\n",
    "            if 'comodel_name' in line and (match := re.search(r\"\"\"comodel_name\\s*=\\s*('|\\\")([\\w\\.]*)('|\\\")\"\"\", line)):\n",
    "                comodel_name = match.group(2)\n",
    "\n",
    "            elif match := re.search(r\"\"\"\\(\\s*('|\\\")([\\w\\.]*)('|\\\")\"\"\", line):\n",
    "                comodel_name = match.group(2)\n",
    "\n",
    "            if comodel_name:\n",
    "                if ModelNode.all_nodes.get(comodel_name) is None:\n",
    "                    ModelNode.all_nodes[comodel_name] = ModelNode(comodel_name)\n",
    "                ModelNode.all_nodes[comodel_name].params['modules'].add(module)\n",
    "                ModelNode.all_nodes[model_technical_name].add_edge(RelationEdge(ModelNode.all_nodes[model_technical_name], ModelNode.all_nodes[comodel_name], field_name, field_type))\n",
    "\n",
    "\n",
    "    return idx, model_name, model_technical_name, is_model"
   ]
  },
  {
   "cell_type": "code",
   "execution_count": 39,
   "metadata": {},
   "outputs": [],
   "source": [
    "# For each path, iterate through all python files and check if they contain any fields in them\n",
    "\n",
    "for addon_path in addons_paths:\n",
    "    for module in os.listdir(addon_path):\n",
    "        if os.path.isdir(os.path.join(addon_path, module)):\n",
    "            for folder in FOLDERS:\n",
    "                folder_path = os.path.join(addon_path, module, folder)\n",
    "                if os.path.exists(folder_path):\n",
    "                    for file in os.listdir(folder_path):\n",
    "                        if file.endswith('.py') and file != '__init__.py':\n",
    "                            with open(os.path.join(folder_path, file), 'r') as f:\n",
    "                                is_model = False\n",
    "                                model_technical_name = ''\n",
    "                                model_name = ''\n",
    "                                lines = f.readlines()\n",
    "\n",
    "                                for idx in range(len(lines)):\n",
    "                                    idx, model_name, model_technical_name, is_model = parse_line(lines, idx, model_name, model_technical_name, module, is_model)"
   ]
  },
  {
   "cell_type": "code",
   "execution_count": 40,
   "metadata": {},
   "outputs": [
    {
     "data": {
      "text/plain": [
       "1740"
      ]
     },
     "execution_count": 40,
     "metadata": {},
     "output_type": "execute_result"
    }
   ],
   "source": [
    "len(ModelNode.all_nodes)"
   ]
  },
  {
   "cell_type": "code",
   "execution_count": 46,
   "metadata": {},
   "outputs": [
    {
     "data": {
      "text/plain": [
       "('picking_ids', <FieldTypes.One2many: 'One2many'>)"
      ]
     },
     "execution_count": 46,
     "metadata": {},
     "output_type": "execute_result"
    }
   ],
   "source": [
    "ModelNode.all_nodes['res.partner'].edges[20].field, ModelNode.all_nodes['res.partner'].edges[20].field_type"
   ]
  },
  {
   "cell_type": "code",
   "execution_count": 49,
   "metadata": {},
   "outputs": [
    {
     "data": {
      "text/plain": [
       "('res.partner', 'stock.picking')"
      ]
     },
     "execution_count": 49,
     "metadata": {},
     "output_type": "execute_result"
    }
   ],
   "source": [
    "ModelNode.all_nodes['res.partner'].edges[20].node1.name, ModelNode.all_nodes['res.partner'].edges[20].node2.name"
   ]
  },
  {
   "cell_type": "code",
   "execution_count": 79,
   "metadata": {},
   "outputs": [],
   "source": [
    "def getLink(node1, node2):\n",
    "    # get the link between two nodes by doing a breadth first search from node1 to node2\n",
    "    visited = set()\n",
    "    queue = [[node1]]\n",
    "    while queue:\n",
    "        path = queue.pop(0) # [node1, edge, node2]\n",
    "        node = path[-1] # node2\n",
    "        if node in visited:\n",
    "            continue\n",
    "        visited.add(node)\n",
    "        for edge in node.edges:\n",
    "            if edge.node2 == node2:\n",
    "                return path + [edge, node2]\n",
    "            queue.append(path + [edge, edge.node2])\n",
    "\n",
    "    return None"
   ]
  },
  {
   "cell_type": "code",
   "execution_count": 81,
   "metadata": {},
   "outputs": [
    {
     "data": {
      "text/plain": [
       "['sale.order',\n",
       " 'sale.order -> res.partner (l10n_in_reseller_partner_id)',\n",
       " 'res.partner',\n",
       " 'res.partner -> account.move.line (unreconciled_aml_ids)',\n",
       " 'account.move.line']"
      ]
     },
     "execution_count": 81,
     "metadata": {},
     "output_type": "execute_result"
    }
   ],
   "source": [
    "path = getLink(ModelNode.all_nodes['sale.order'], ModelNode.all_nodes['account.move.line'])\n",
    "[str(p) for p in path]"
   ]
  },
  {
   "cell_type": "code",
   "execution_count": 83,
   "metadata": {},
   "outputs": [
    {
     "data": {
      "text/plain": [
       "['res.partner',\n",
       " 'res.partner -> pos.order (pos_order_ids)',\n",
       " 'pos.order',\n",
       " 'pos.order -> hr.employee (employee_id)',\n",
       " 'hr.employee']"
      ]
     },
     "execution_count": 83,
     "metadata": {},
     "output_type": "execute_result"
    }
   ],
   "source": [
    "path = getLink(ModelNode.all_nodes['res.partner'], ModelNode.all_nodes['hr.employee'])\n",
    "[str(p) for p in path]"
   ]
  },
  {
   "cell_type": "code",
   "execution_count": null,
   "metadata": {},
   "outputs": [],
   "source": []
  }
 ],
 "metadata": {
  "kernelspec": {
   "display_name": "Python 3",
   "language": "python",
   "name": "python3"
  },
  "language_info": {
   "codemirror_mode": {
    "name": "ipython",
    "version": 3
   },
   "file_extension": ".py",
   "mimetype": "text/x-python",
   "name": "python",
   "nbconvert_exporter": "python",
   "pygments_lexer": "ipython3",
   "version": "3.10.12"
  }
 },
 "nbformat": 4,
 "nbformat_minor": 2
}
